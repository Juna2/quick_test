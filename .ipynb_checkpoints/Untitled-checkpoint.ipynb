{
 "cells": [
  {
   "cell_type": "code",
   "execution_count": 8,
   "metadata": {},
   "outputs": [
    {
     "name": "stdout",
     "output_type": "stream",
     "text": [
      "/media/volume1/juna/quick_test/behavioral_data.mat\n",
      "[-1.00000000e+00 -1.00000000e+00 -1.00000000e+00 -8.98069853e-01\n",
      " -9.00199142e-01 -9.41528799e-01 -4.81004902e-01 -1.00000000e+00\n",
      " -9.21890319e-01 -1.00000000e+00 -1.00000000e+00 -6.79610907e-01\n",
      " -1.00000000e+00 -1.00000000e+00 -1.00000000e+00 -4.95143995e-01\n",
      " -5.66007966e-01 -1.00000000e+00 -1.00000000e+00 -4.93213848e-01\n",
      "  1.96078431e-03 -7.56740196e-03  3.24754902e-02 -1.36335784e-02\n",
      "  2.44638480e-02 -3.33363971e-01 -3.65640319e-01 -2.30729167e-01\n",
      " -2.34911152e-01 -3.49356618e-01 -9.34543505e-01 -1.00000000e+00\n",
      " -4.99065564e-01 -4.36580882e-03  6.41176471e-01 -5.60340074e-01\n",
      " -7.61121324e-01 -6.46109069e-01 -5.33762255e-01 -8.33624387e-01\n",
      " -6.37224265e-01 -3.40732230e-01  3.00658701e-01  7.48483456e-01\n",
      " -3.20986520e-01  3.13725490e-01  3.04871324e-01 -1.00000000e+00\n",
      " -1.00000000e+00  9.74954044e-01  5.85340074e-01  6.11994485e-01\n",
      " -5.24724265e-01  1.00000000e+00  1.00000000e+00  1.00000000e+00\n",
      "  1.00000000e+00 -5.11825980e-01 -2.44791667e-01 -2.68857230e-01\n",
      " -3.52282475e-01 -3.16590074e-01  5.24494485e-01  6.47257966e-01\n",
      "  3.19132966e-01  5.41007966e-01  4.42478554e-01 -4.78615196e-01\n",
      " -3.70052083e-01 -1.93581495e-01  1.07230392e-02  3.03308824e-03\n",
      "  1.26838235e-02  1.96078431e-03 -4.51899510e-03  1.97334559e-01\n",
      " -1.00000000e+00 -2.43244485e-01 -6.30912990e-01 -2.63495711e-01\n",
      "  5.28170956e-01  1.96078431e-03  5.19301471e-01  5.83639706e-02\n",
      "  1.70036765e-03  1.96078431e-03  4.81280637e-01  1.00000000e+00\n",
      "  3.33777574e-01 -1.66927083e-01  1.00000000e+00  1.00000000e+00\n",
      "  1.51960784e-02 -2.46629902e-03  1.96078431e-03  1.86979167e-01\n",
      "  2.08210784e-01  8.00735294e-01  6.85661765e-02 -1.10140931e-02\n",
      " -2.45863971e-02  3.76654412e-01  3.66865809e-01  2.62791054e-01\n",
      "  1.96078431e-03  2.86611520e-02 -1.01102941e-02  7.96568627e-04\n",
      "  1.00000000e+00  3.70235907e-01  4.83915441e-02  2.04810049e-02\n",
      "  1.96078431e-03  3.35018382e-02  1.96078431e-03 -1.66973039e-03\n",
      "  5.47334559e-02  3.37392770e-01  1.96078431e-03  7.54136029e-02\n",
      "  1.00000000e+00  1.00000000e+00  1.00000000e+00  6.63204657e-01\n",
      "  1.00000000e+00  1.00000000e+00  1.00000000e+00  1.00000000e+00\n",
      " -3.35845588e-01 -6.50260417e-01 -5.18704044e-01 -4.52558211e-01\n",
      "  5.37040441e-01  7.62668505e-01  1.00000000e+00  1.00000000e+00\n",
      "  1.00000000e+00 -5.54748775e-01 -4.96277574e-01  6.13556985e-01\n",
      "  6.28936887e-01  1.00000000e+00  1.00000000e+00  5.34191176e-01\n",
      " -7.27956495e-01  8.16482843e-03  6.64583333e-01  1.00000000e+00\n",
      "  1.00000000e+00  1.00000000e+00 -3.98897059e-02 -2.37438725e-02\n",
      " -1.46292892e-02  4.01731005e-01  5.36014093e-01  3.51608456e-01\n",
      "  1.00000000e+00  1.00000000e+00  4.43933824e-01  6.59313725e-01]\n"
     ]
    }
   ],
   "source": [
    "import os\n",
    "from os.path import join, split, abspath\n",
    "import sys\n",
    "sys.path.append('/media/volume1/juna/fast_project/')\n",
    "sys.path.append('/media/volume1/juna/fast_project/data/') \n",
    "sys.path.append(join(split(os.getcwd())[0], 'modules'))\n",
    "import functions_data5 as functions\n",
    "import h5py as h5\n",
    "import numpy as np\n",
    "\n",
    "print(join(os.getcwd(), 'behavioral_data.mat'))\n",
    "print(functions.get_whole_valence('/media/volume1/juna/fast_project/behavioral_data.mat', 0))\n"
   ]
  },
  {
   "cell_type": "code",
   "execution_count": 18,
   "metadata": {},
   "outputs": [
    {
     "name": "stdout",
     "output_type": "stream",
     "text": [
      "a.size() : torch.Size([2, 2, 3])\n",
      "b : tensor([[ 8, 10, 12],\n",
      "        [14, 16, 18]])\n",
      "b.size() : torch.Size([2, 3])\n"
     ]
    }
   ],
   "source": [
    "import torch\n",
    "import numpy as np\n",
    "\n",
    "a = torch.tensor([[[1, 2, 3], [4, 5, 6]], [[7, 8, 9], [10, 11, 12]]])\n",
    "print('a.size() :', a.size())\n",
    "b = torch.sum(a, dim=0)\n",
    "print('b :', b)\n",
    "print('b.size() :', b.size())"
   ]
  },
  {
   "cell_type": "code",
   "execution_count": 3,
   "metadata": {},
   "outputs": [],
   "source": [
    "import os\n",
    "from os.path import join\n",
    "import datetime\n",
    "\n",
    "now = datetime.datetime.now()\n",
    "\n",
    "exp_list = [\n",
    "#     ('train_model', 'C64MC128M256MF1', 'task-data11_quartile_0-61', 300, 1e-6, 5e-3, 1, 0),\n",
    "#     ('train_model', 'C64MC128M256MF1', 'task-data11_quartile_0-61', 300, 1e-6, 5e-3, 1, 0),\n",
    "    ('train_model', 'C64MC128M256MF1', 'task-data11_quartile_0-61', 300, 1e-6, 5e-3, 1, 0)\n",
    "]\n",
    "\n",
    "setting = {}\n",
    "\n",
    "for exp in exp_list:\n",
    "    setting = {\n",
    "        'train_model'   : exp[0],\n",
    "        'model_name'    : exp[1],\n",
    "        'data_dir'      : exp[2],\n",
    "        'num_epochs'    : exp[3],\n",
    "        'learning_rate' : exp[4],\n",
    "        'L2reg'         : exp[5],\n",
    "        'batch_size'    : exp[6],\n",
    "        'foldnum'       : exp[7]\n",
    "    }\n",
    "\n",
    "keys = list(setting.keys())\n",
    "keys.sort()\n",
    "keys.remove('model_name')\n",
    "keys = ['model_name'] + keys\n",
    "\n",
    "best_Rsquared = 0.06\n",
    "\n",
    "with open('/media/volume1/juna/fast_project/project4/simple_results.txt', 'a') as f:\n",
    "    f.write(now.strftime(\"%Y-%m-%d %H:%M\\n\"))\n",
    "    for key in keys:\n",
    "        f.write('{:<25} : {}\\n'.format(key, setting[key]))\n",
    "    f.write('*** Best R^2 : {} ***\\n\\n'.format(best_Rsquared))\n",
    "    f.write('')"
   ]
  },
  {
   "cell_type": "code",
   "execution_count": 16,
   "metadata": {},
   "outputs": [
    {
     "name": "stdout",
     "output_type": "stream",
     "text": [
      "False\n"
     ]
    }
   ],
   "source": [
    "class a():\n",
    "    def __init__(self, init_weights=True):\n",
    "        print(init_weights)\n",
    "        \n",
    "        \n",
    "        \n",
    "        \n",
    "        \n",
    "haha = {'init_weights' : False}\n",
    "sample = a(**haha)"
   ]
  },
  {
   "cell_type": "code",
   "execution_count": 13,
   "metadata": {},
   "outputs": [
    {
     "name": "stdout",
     "output_type": "stream",
     "text": [
      "[8 7 2 4 1 6 5 9 3]\n",
      "[1 7 2 4 8 6 5 9 3]\n",
      "[1 2 7 4 8 6 5 9 3]\n",
      "[1 2 3 4 8 6 5 9 7]\n",
      "[2 1 3 4 5 6 7 9 8]\n",
      "[2 1 3 4 5 6 7 9 8]\n",
      "[2 1 3 5 4 6 7 9 8]\n",
      "[2 1 3 5 4 6 7 8 9]\n",
      "[2 1 3 5 4 6 7 8 9]\n",
      "[2 1 3 5 4 6 7 8 9]\n",
      "[8 7 2 4 1 6 5 9 3]\n"
     ]
    }
   ],
   "source": [
    "import random\n",
    "import numpy as np\n",
    "\n",
    "a = np.array(random.sample(range(1, 10), 9))\n",
    "print(a)\n",
    "for i in range(a.shape[0]):\n",
    "    print(a[np.argpartition(a, i)])\n",
    "print(a)\n",
    "# a = np.array([])\n",
    "# np.argpartition()"
   ]
  },
  {
   "cell_type": "code",
   "execution_count": 19,
   "metadata": {},
   "outputs": [
    {
     "name": "stdout",
     "output_type": "stream",
     "text": [
      "[9 4 1 0 8 7 6 5 2 3]\n",
      "[1 2 1 2 2 1 1 1 1 1]\n"
     ]
    }
   ],
   "source": [
    "import random\n",
    "import numpy as np\n",
    "\n",
    "a = np.array(random.sample(range(10), 10))\n",
    "print(a)\n",
    "a = np.array([4 ,5 ,3 ,8 ,1 ,9 ,2 ,0 ,6 ,7, 1, 3, 4])\n",
    "print(np.bincount(a))"
   ]
  },
  {
   "cell_type": "code",
   "execution_count": 22,
   "metadata": {},
   "outputs": [
    {
     "name": "stdout",
     "output_type": "stream",
     "text": [
      "<class 'numpy.ndarray'>\n"
     ]
    }
   ],
   "source": [
    "import numpy as np\n",
    "\n",
    "a = np.array([1, 2, 3])\n",
    "b = np.array([3, 2, 1])\n",
    "correct_or_not = a == b\n",
    "print(type(correct_or_not))"
   ]
  },
  {
   "cell_type": "code",
   "execution_count": 24,
   "metadata": {},
   "outputs": [
    {
     "name": "stdout",
     "output_type": "stream",
     "text": [
      "[6 8 7 5]\n"
     ]
    }
   ],
   "source": [
    "import numpy as np\n",
    "\n",
    "a = np.array([1, 3, 2, 0])\n",
    "b = np.array([5, 6, 7, 8])\n",
    "print(b[a])"
   ]
  },
  {
   "cell_type": "code",
   "execution_count": 4,
   "metadata": {},
   "outputs": [
    {
     "name": "stdout",
     "output_type": "stream",
     "text": [
      "[[1. 1. 1. 1. 1.]\n",
      " [1. 1. 1. 1. 1.]\n",
      " [1. 1. 1. 1. 1.]\n",
      " [1. 1. 1. 1. 1.]\n",
      " [1. 1. 1. 1. 1.]]\n",
      "[[0. 1. 1. 1. 1.]\n",
      " [1. 0. 1. 1. 1.]\n",
      " [1. 1. 0. 1. 1.]\n",
      " [1. 1. 1. 0. 1.]\n",
      " [1. 1. 1. 1. 0.]]\n"
     ]
    }
   ],
   "source": [
    "import numpy as np\n",
    "\n",
    "a = np.ones([5, 5])\n",
    "print(a)\n",
    "size = a.shape[0]\n",
    "b = np.array([0, 1, 2, 3, 4])\n",
    "a[range(size), b] = a[range(size), b] - 1\n",
    "\n",
    "print(a)"
   ]
  },
  {
   "cell_type": "code",
   "execution_count": 9,
   "metadata": {},
   "outputs": [
    {
     "name": "stdout",
     "output_type": "stream",
     "text": [
      "tensor([0, 1, 2])\n",
      "tensor(3)\n",
      "tensor([1.0000, 2.7183, 7.3891])\n"
     ]
    }
   ],
   "source": [
    "import torch\n",
    "\n",
    "a = torch.arange(3)\n",
    "print(a)\n",
    "print(a.sum())\n",
    "print(torch.exp(a.type('torch.FloatTensor')))"
   ]
  },
  {
   "cell_type": "code",
   "execution_count": 12,
   "metadata": {},
   "outputs": [
    {
     "name": "stdout",
     "output_type": "stream",
     "text": [
      "0.98\n",
      "1.14\n",
      "-0.7721903879003982\n",
      "-0.6198967188203526\n"
     ]
    }
   ],
   "source": [
    "import numpy as np\n",
    "\n",
    "print(np.exp(-0.018).round(2))\n",
    "print(np.exp(0.135).round(2))\n",
    "\n",
    "print(np.log(0.462))\n",
    "print(np.log(0.538))"
   ]
  },
  {
   "cell_type": "code",
   "execution_count": 24,
   "metadata": {},
   "outputs": [
    {
     "name": "stdout",
     "output_type": "stream",
     "text": [
      "tensor([[ 0,  1,  2],\n",
      "        [ 3,  4,  5],\n",
      "        [ 6,  7,  8],\n",
      "        [ 9, 10, 11]])\n",
      "tensor([ 2,  4,  6, 10])\n"
     ]
    }
   ],
   "source": [
    "import torch\n",
    "\n",
    "a = torch.arange(12).view(4, 3)\n",
    "print(a)\n",
    "b = torch.tensor([2, 1, 0, 1])\n",
    "\n",
    "print(a[(range(a.size()[0]), b)])"
   ]
  },
  {
   "cell_type": "code",
   "execution_count": 22,
   "metadata": {},
   "outputs": [
    {
     "name": "stdout",
     "output_type": "stream",
     "text": [
      "[2 1 0 2 0 0 0 1 2 2]\n"
     ]
    }
   ],
   "source": [
    "import numpy as np\n",
    "\n",
    "print(np.random.choice(3, 10))"
   ]
  },
  {
   "cell_type": "code",
   "execution_count": 3,
   "metadata": {},
   "outputs": [
    {
     "name": "stdout",
     "output_type": "stream",
     "text": [
      "nan\n"
     ]
    }
   ],
   "source": [
    "import numpy as np\n",
    "a = np.nan\n",
    "print(a)"
   ]
  },
  {
   "cell_type": "code",
   "execution_count": 7,
   "metadata": {},
   "outputs": [
    {
     "name": "stdout",
     "output_type": "stream",
     "text": [
      "Wed May  1 19:59:37 2019\n",
      "Wed May  1 19:59:38 2019\n",
      "Wed May  1 19:59:38 2019\n",
      "Wed May  1 19:59:39 2019\n",
      "haha\n",
      "Wed May  1 19:59:39 2019\n",
      "Wed May  1 19:59:40 2019\n",
      "Wed May  1 19:59:40 2019\n",
      "Wed May  1 19:59:41 2019\n",
      "Wed May  1 19:59:41 2019\n"
     ]
    },
    {
     "ename": "KeyboardInterrupt",
     "evalue": "",
     "output_type": "error",
     "traceback": [
      "\u001b[0;31m---------------------------------------------------------------------------\u001b[0m",
      "\u001b[0;31mKeyboardInterrupt\u001b[0m                         Traceback (most recent call last)",
      "\u001b[0;32m<ipython-input-7-b9715bb2a6bf>\u001b[0m in \u001b[0;36m<module>\u001b[0;34m\u001b[0m\n\u001b[1;32m      7\u001b[0m \u001b[0;32mfor\u001b[0m \u001b[0mi\u001b[0m \u001b[0;32min\u001b[0m \u001b[0mrange\u001b[0m\u001b[0;34m(\u001b[0m\u001b[0;36m100\u001b[0m\u001b[0;34m)\u001b[0m\u001b[0;34m:\u001b[0m\u001b[0;34m\u001b[0m\u001b[0m\n\u001b[1;32m      8\u001b[0m     \u001b[0mprint\u001b[0m\u001b[0;34m(\u001b[0m\u001b[0mtime\u001b[0m\u001b[0;34m.\u001b[0m\u001b[0mctime\u001b[0m\u001b[0;34m(\u001b[0m\u001b[0;34m)\u001b[0m\u001b[0;34m)\u001b[0m\u001b[0;34m\u001b[0m\u001b[0m\n\u001b[0;32m----> 9\u001b[0;31m     \u001b[0mtime\u001b[0m\u001b[0;34m.\u001b[0m\u001b[0msleep\u001b[0m\u001b[0;34m(\u001b[0m\u001b[0;36m0.5\u001b[0m\u001b[0;34m)\u001b[0m\u001b[0;34m\u001b[0m\u001b[0m\n\u001b[0m",
      "\u001b[0;31mKeyboardInterrupt\u001b[0m: "
     ]
    }
   ],
   "source": [
    "import time, threading\n",
    "\n",
    "def haha():\n",
    "    print('haha')\n",
    "\n",
    "threading.Timer(2, haha).start()\n",
    "for i in range(100):\n",
    "    print(time.ctime())\n",
    "    time.sleep(0.5)"
   ]
  },
  {
   "cell_type": "code",
   "execution_count": 13,
   "metadata": {},
   "outputs": [
    {
     "name": "stdout",
     "output_type": "stream",
     "text": [
      "0\n",
      "1\n",
      "2\n"
     ]
    }
   ],
   "source": [
    "import timeout_decorator\n",
    "import time as t\n",
    "\n",
    "def sleep1():\n",
    "    t.sleep(1)\n",
    "\n",
    "    \n",
    "for \n"
   ]
  },
  {
   "cell_type": "code",
   "execution_count": 16,
   "metadata": {},
   "outputs": [
    {
     "name": "stdout",
     "output_type": "stream",
     "text": [
      "[[0. 0. 0. 0.]]\n"
     ]
    }
   ],
   "source": [
    "import numpy as np\n",
    "\n",
    "a = np.zeros([1, 4])\n",
    "print(a)"
   ]
  },
  {
   "cell_type": "code",
   "execution_count": 10,
   "metadata": {},
   "outputs": [
    {
     "name": "stdout",
     "output_type": "stream",
     "text": [
      "[ 1.  2. nan  4.  5.]\n",
      "[False False  True False False]\n",
      "[  0   0 100   0   0]\n"
     ]
    }
   ],
   "source": [
    "import numpy as np\n",
    "\n",
    "a = np.array([1, 2, np.nan, 4, 5])\n",
    "print(a)\n",
    "b = np.isnan(a)\n",
    "print(b)\n",
    "b = b * 100\n",
    "print(b)"
   ]
  },
  {
   "cell_type": "code",
   "execution_count": 11,
   "metadata": {},
   "outputs": [
    {
     "name": "stdout",
     "output_type": "stream",
     "text": [
      "[False False  True  True]\n"
     ]
    }
   ],
   "source": [
    "import numpy as np\n",
    "\n",
    "a = np.array([1, 2, 3, 4])\n",
    "b = a > 2\n",
    "print(b)"
   ]
  },
  {
   "cell_type": "code",
   "execution_count": null,
   "metadata": {},
   "outputs": [],
   "source": [
    "import numpy as np\n",
    "import matplotlib.pyplot as plt\n",
    "\n",
    "score = np.array([\n",
    "    55,\n",
    "    76,\n",
    "    30,\n",
    "    57,\n",
    "    68,\n",
    "    58,\n",
    "    76,\n",
    "    56,\n",
    "    55,\n",
    "    83,\n",
    "    68,\n",
    "    60,\n",
    "    68,\n",
    "    53,\n",
    "    61,\n",
    "    79,\n",
    "    43,\n",
    "    74,\n",
    "    57,\n",
    "    57,\n",
    "    65,\n",
    "    65,\n",
    "    41,\n",
    "    47,\n",
    "    18,\n",
    "    55,\n",
    "    45,\n",
    "    35,\n",
    "    32,\n",
    "    36,\n",
    "    60,\n",
    "    30,\n",
    "    60,\n",
    "    62,\n",
    "    58,\n",
    "    35,\n",
    "    52,\n",
    "    52,\n",
    "    68,\n",
    "    56,\n",
    "    61,\n",
    "    72,\n",
    "    41,\n",
    "    59,\n",
    "    69,\n",
    "    74,\n",
    "    58,\n",
    "    78,\n",
    "    50,\n",
    "    26,\n",
    "    54,\n",
    "    61,\n",
    "    40,\n",
    "    50,\n",
    "    40,\n",
    "    43,\n",
    "    64,\n",
    "    32,\n",
    "    45,\n",
    "    22,\n",
    "    40,\n",
    "    53,\n",
    "    20,\n",
    "    31,\n",
    "    32,\n",
    "    18,\n",
    "    77,\n",
    "    43,\n",
    "    65,\n",
    "    56,\n",
    "    54,\n",
    "    60,\n",
    "    14,\n",
    "    56,\n",
    "    58,\n",
    "    56,\n",
    "    21,\n",
    "    67,\n",
    "    64,\n",
    "    74,\n",
    "    60,\n",
    "    25,\n",
    "    52,\n",
    "    57,\n",
    "    45,\n",
    "    63,\n",
    "    52,\n",
    "    55,\n",
    "    39,\n",
    "    77,\n",
    "    46,\n",
    "    13,\n",
    "    46,\n",
    "    67,\n",
    "    72,\n",
    "    49,\n",
    "    86,\n",
    "    65,\n",
    "    62,\n",
    "    42,\n",
    "    55,\n",
    "    74,\n",
    "    41,\n",
    "    40,\n",
    "    37,\n",
    "    62,\n",
    "    31,\n",
    "    50,\n",
    "    60,\n",
    "    58,\n",
    "    26,\n",
    "    57,\n",
    "    53,\n",
    "    53,\n",
    "    41,\n",
    "    33,\n",
    "    53,\n",
    "    68,\n",
    "    19,\n",
    "    58,\n",
    "    73,\n",
    "    39,\n",
    "    62,\n",
    "    74,\n",
    "    47,\n",
    "    37,\n",
    "    28,\n",
    "    62,\n",
    "    54,\n",
    "    29,\n",
    "    57,\n",
    "    27,\n",
    "    61,\n",
    "    50,\n",
    "    53,\n",
    "    57,\n",
    "    45,\n",
    "    60,\n",
    "    51,\n",
    "    57,\n",
    "    57,\n",
    "    35,\n",
    "    45,\n",
    "    55,\n",
    "    48,\n",
    "    69,\n",
    "    67,\n",
    "    20,\n",
    "    62,\n",
    "    58,\n",
    "    54,\n",
    "    59,\n",
    "    57,\n",
    "    78,\n",
    "    45,\n",
    "    37,\n",
    "    31,\n",
    "    41,\n",
    "    35,\n",
    "    65,\n",
    "    65,\n",
    "    38,\n",
    "    39,\n",
    "    49,\n",
    "    57,\n",
    "    73,\n",
    "    36,\n",
    "    50,\n",
    "    71,\n",
    "    63,\n",
    "    62,\n",
    "    47,\n",
    "    42,\n",
    "    33,\n",
    "    62,\n",
    "    75,\n",
    "    76,\n",
    "    64,\n",
    "    39,\n",
    "    51,\n",
    "    67,\n",
    "    66,\n",
    "    56,\n",
    "    25,\n",
    "    71\n",
    "])\n",
    "\n",
    "over_me = score > 69\n",
    "percentage = over_me.sum() / len(score) * 100\n",
    "print('num of people over me :', over_me.sum())\n",
    "print('percentage :', percentage)\n",
    "plt.hist(score)\n",
    "plt.show\n",
    "\n",
    "\n"
   ]
  },
  {
   "cell_type": "code",
   "execution_count": null,
   "metadata": {},
   "outputs": [],
   "source": []
  },
  {
   "cell_type": "code",
   "execution_count": null,
   "metadata": {},
   "outputs": [],
   "source": []
  },
  {
   "cell_type": "code",
   "execution_count": null,
   "metadata": {},
   "outputs": [],
   "source": []
  },
  {
   "cell_type": "code",
   "execution_count": null,
   "metadata": {},
   "outputs": [],
   "source": []
  },
  {
   "cell_type": "code",
   "execution_count": null,
   "metadata": {},
   "outputs": [],
   "source": []
  },
  {
   "cell_type": "code",
   "execution_count": null,
   "metadata": {},
   "outputs": [],
   "source": []
  },
  {
   "cell_type": "code",
   "execution_count": null,
   "metadata": {},
   "outputs": [],
   "source": []
  },
  {
   "cell_type": "code",
   "execution_count": null,
   "metadata": {},
   "outputs": [],
   "source": []
  },
  {
   "cell_type": "code",
   "execution_count": null,
   "metadata": {},
   "outputs": [],
   "source": []
  },
  {
   "cell_type": "code",
   "execution_count": null,
   "metadata": {},
   "outputs": [],
   "source": []
  },
  {
   "cell_type": "code",
   "execution_count": null,
   "metadata": {},
   "outputs": [],
   "source": []
  },
  {
   "cell_type": "code",
   "execution_count": null,
   "metadata": {},
   "outputs": [],
   "source": []
  },
  {
   "cell_type": "code",
   "execution_count": null,
   "metadata": {},
   "outputs": [],
   "source": []
  },
  {
   "cell_type": "code",
   "execution_count": null,
   "metadata": {},
   "outputs": [],
   "source": []
  },
  {
   "cell_type": "code",
   "execution_count": null,
   "metadata": {},
   "outputs": [],
   "source": []
  }
 ],
 "metadata": {
  "kernelspec": {
   "display_name": "Python 3",
   "language": "python",
   "name": "python3"
  },
  "language_info": {
   "codemirror_mode": {
    "name": "ipython",
    "version": 3
   },
   "file_extension": ".py",
   "mimetype": "text/x-python",
   "name": "python",
   "nbconvert_exporter": "python",
   "pygments_lexer": "ipython3",
   "version": "3.5.2"
  }
 },
 "nbformat": 4,
 "nbformat_minor": 2
}
