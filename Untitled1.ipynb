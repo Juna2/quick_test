{
 "cells": [
  {
   "cell_type": "code",
   "execution_count": null,
   "metadata": {},
   "outputs": [],
   "source": [
    "import numpy as np\n",
    "\n",
    "x = np.array([\n",
    "    [1, 6, 8  , 3, 6, 7  , 4, 8, 9, 4, 44],\n",
    "    [1, 6, 8  , 3, 6, 100, 4, 8, 9, 4, 44],\n",
    "    [1, 6, 300, 3, 6, 7  , 4, 8, 9, 4, 44],\n",
    "])\n",
    "print(x.sum(0))"
   ]
  },
  {
   "cell_type": "code",
   "execution_count": 9,
   "metadata": {},
   "outputs": [
    {
     "name": "stdout",
     "output_type": "stream",
     "text": [
      "{'W1': array([[ 0.1,  0.2,  0.3],\n",
      "       [-0.5,  0.3, -0.8]]), 'W2': array([[ 0.9, -0.5,  0.3],\n",
      "       [ 0.9,  0.6, -0.8]])}\n"
     ]
    }
   ],
   "source": [
    "temp_weight1 = np.array([[0.1,0.2,0.3],[-0.5,0.3,-0.8]])\n",
    "temp_weight2 = np.array([[0.9,-0.5,0.3],[0.9,0.6,-0.8]])\n",
    "\n",
    "weights = {}\n",
    "weights['W1'] = (temp_weight1)\n",
    "weights['W2'] = (temp_weight2)\n",
    "print(weights)"
   ]
  },
  {
   "cell_type": "code",
   "execution_count": 11,
   "metadata": {},
   "outputs": [
    {
     "ename": "TypeError",
     "evalue": "unsupported operand type(s) for ** or pow(): 'dict' and 'int'",
     "output_type": "error",
     "traceback": [
      "\u001b[0;31m---------------------------------------------------------------------------\u001b[0m",
      "\u001b[0;31mTypeError\u001b[0m                                 Traceback (most recent call last)",
      "\u001b[0;32m<ipython-input-11-4e1c2ab5d25e>\u001b[0m in \u001b[0;36m<module>\u001b[0;34m\u001b[0m\n\u001b[0;32m----> 1\u001b[0;31m \u001b[0mweights\u001b[0m\u001b[0;34m**\u001b[0m\u001b[0;36m2\u001b[0m\u001b[0;34m\u001b[0m\u001b[0m\n\u001b[0m",
      "\u001b[0;31mTypeError\u001b[0m: unsupported operand type(s) for ** or pow(): 'dict' and 'int'"
     ]
    }
   ],
   "source": [
    "weights**2"
   ]
  },
  {
   "cell_type": "code",
   "execution_count": 14,
   "metadata": {},
   "outputs": [
    {
     "name": "stdout",
     "output_type": "stream",
     "text": [
      "[[1 2 3]\n",
      " [0 3 0]]\n"
     ]
    }
   ],
   "source": [
    "a = np.array([\n",
    "    [1, 2, 3],\n",
    "    [-5, 3, -7]\n",
    "])\n",
    "print(np.maximum(0,a))"
   ]
  },
  {
   "cell_type": "code",
   "execution_count": 19,
   "metadata": {},
   "outputs": [
    {
     "name": "stdout",
     "output_type": "stream",
     "text": [
      "[[ 1  2  3]\n",
      " [-5  3 -7]]\n",
      "(3,)\n",
      "(3,)\n"
     ]
    }
   ],
   "source": [
    "a = np.array([\n",
    "    [1, 2, 3],\n",
    "    [-5, 3, -7],\n",
    "    [4, 5, 3],\n",
    "    [6, 9, 2]\n",
    "])\n",
    "b = np.array([5, 3, 4])\n",
    "print(a[:2])\n",
    "print(b.shape)\n",
    "print(b.reshape(-1).shape)"
   ]
  },
  {
   "cell_type": "code",
   "execution_count": 21,
   "metadata": {},
   "outputs": [
    {
     "name": "stdout",
     "output_type": "stream",
     "text": [
      "20190507135647\n"
     ]
    }
   ],
   "source": [
    "import datetime\n",
    "\n",
    "dt = datetime.datetime.now()\n",
    "print(dt.strftime(\"%Y%m%d%H%M%S\"))"
   ]
  },
  {
   "cell_type": "code",
   "execution_count": 31,
   "metadata": {},
   "outputs": [
    {
     "name": "stdout",
     "output_type": "stream",
     "text": [
      "[-2.  0.  1.  0.]\n"
     ]
    }
   ],
   "source": [
    "import numpy as np\n",
    "\n",
    "a = np.array([-2, np.nan, 1, np.nan])\n",
    "b = np.array([0, 1, 0])\n",
    "c = np.argwhere(np.isnan(a))\n",
    "a[c] = 0\n",
    "print(a)"
   ]
  },
  {
   "cell_type": "code",
   "execution_count": 1,
   "metadata": {},
   "outputs": [
    {
     "data": {
      "text/plain": [
       "8"
      ]
     },
     "execution_count": 1,
     "metadata": {},
     "output_type": "execute_result"
    }
   ],
   "source": [
    "a = [1, 2, 8, 5]\n",
    "max(a)"
   ]
  },
  {
   "cell_type": "code",
   "execution_count": 5,
   "metadata": {},
   "outputs": [
    {
     "name": "stdout",
     "output_type": "stream",
     "text": [
      "total_a_min : 1\n",
      "total_a_max : 2\n",
      "total_b_min : 3\n",
      "total_b_max : 4\n",
      "total_c_min : 5\n",
      "total_c_max : 6\n",
      "\n"
     ]
    }
   ],
   "source": [
    "print('total_a_min : {}\\n\\\n",
    "total_a_max : {}\\n\\\n",
    "total_b_min : {}\\n\\\n",
    "total_b_max : {}\\n\\\n",
    "total_c_min : {}\\n\\\n",
    "total_c_max : {}\\n'.format(1, 2, 3, 4, 5, 6))"
   ]
  },
  {
   "cell_type": "code",
   "execution_count": 9,
   "metadata": {},
   "outputs": [
    {
     "name": "stdout",
     "output_type": "stream",
     "text": [
      "[tensor([[-1.4503, -0.2329,  0.7925]]), tensor([[-0.6097, -0.3475, -1.9724]]), tensor([[ 0.6525, -0.8513,  0.9439]]), tensor([[-2.6174, -0.4055,  1.2790]]), tensor([[-0.3968, -0.8859, -0.2756]])]\n",
      "['haha', 'haha', 'haha']\n"
     ]
    }
   ],
   "source": [
    "import torch\n",
    "import numpy as np\n",
    "\n",
    "inputs = [torch.randn(1, 3) for _ in range(5)]\n",
    "print(inputs)\n",
    "\n",
    "a = ['haha' for _ in range(3)]\n",
    "print(a)"
   ]
  },
  {
   "cell_type": "code",
   "execution_count": 11,
   "metadata": {},
   "outputs": [
    {
     "name": "stdout",
     "output_type": "stream",
     "text": [
      "5e-05\n"
     ]
    }
   ],
   "source": [
    "import numpy as np\n",
    "\n",
    "a = 5.0e-05\n",
    "print(a)"
   ]
  },
  {
   "cell_type": "code",
   "execution_count": 14,
   "metadata": {},
   "outputs": [
    {
     "name": "stdout",
     "output_type": "stream",
     "text": [
      "5 5\n"
     ]
    }
   ],
   "source": [
    "a = np.abs(-5)\n",
    "b = np.abs(5)\n",
    "print(a, b, )"
   ]
  },
  {
   "cell_type": "code",
   "execution_count": 17,
   "metadata": {},
   "outputs": [
    {
     "name": "stdout",
     "output_type": "stream",
     "text": [
      "True\n",
      "False\n",
      "False\n",
      "True\n"
     ]
    }
   ],
   "source": [
    "a = [1, 2, 3]\n",
    "b = 3\n",
    "print(isinstance(a, list))\n",
    "print(isinstance(a, int))\n",
    "print(isinstance(b, list))\n",
    "print(isinstance(b, int))"
   ]
  },
  {
   "cell_type": "code",
   "execution_count": 2,
   "metadata": {},
   "outputs": [
    {
     "name": "stdout",
     "output_type": "stream",
     "text": [
      "1\n"
     ]
    }
   ],
   "source": [
    "a = 'friend_sub_01.nii'\n",
    "b = '1_2_3_4_5_6'\n",
    "print(b.find('_'))"
   ]
  },
  {
   "cell_type": "code",
   "execution_count": null,
   "metadata": {},
   "outputs": [],
   "source": [
    "arr1 = []\n",
    "arr2 = []\n",
    "arr3 = []\n",
    "a = [arr1, arr2, arr3]\n",
    "b = a.pop(arr2)"
   ]
  },
  {
   "cell_type": "code",
   "execution_count": 4,
   "metadata": {},
   "outputs": [
    {
     "name": "stdout",
     "output_type": "stream",
     "text": [
      "[1]\n",
      "[[2], [3]]\n"
     ]
    }
   ],
   "source": [
    "a = [1]\n",
    "b = [2]\n",
    "c = [3]\n",
    "\n",
    "d = [a, b, c]\n",
    "del d[0]\n",
    "print(a)\n",
    "print(d)"
   ]
  },
  {
   "cell_type": "code",
   "execution_count": 5,
   "metadata": {},
   "outputs": [
    {
     "ename": "NameError",
     "evalue": "name 'a1' is not defined",
     "output_type": "error",
     "traceback": [
      "\u001b[0;31m---------------------------------------------------------------------------\u001b[0m",
      "\u001b[0;31mNameError\u001b[0m                                 Traceback (most recent call last)",
      "\u001b[0;32m<ipython-input-5-4a2acb8258c6>\u001b[0m in \u001b[0;36m<module>\u001b[0;34m\u001b[0m\n\u001b[0;32m----> 1\u001b[0;31m \u001b[0ma\u001b[0m \u001b[0;34m=\u001b[0m \u001b[0;34m[\u001b[0m\u001b[0ma1\u001b[0m\u001b[0;34m,\u001b[0m \u001b[0ma2\u001b[0m\u001b[0;34m,\u001b[0m \u001b[0ma3\u001b[0m\u001b[0;34m]\u001b[0m\u001b[0;34m\u001b[0m\u001b[0m\n\u001b[0m\u001b[1;32m      2\u001b[0m \u001b[0mprint\u001b[0m\u001b[0;34m(\u001b[0m\u001b[0;34m)\u001b[0m\u001b[0;34m\u001b[0m\u001b[0m\n",
      "\u001b[0;31mNameError\u001b[0m: name 'a1' is not defined"
     ]
    }
   ],
   "source": [
    "a = [a1, a2, a3]\n",
    "print()"
   ]
  },
  {
   "cell_type": "code",
   "execution_count": 6,
   "metadata": {},
   "outputs": [
    {
     "name": "stdout",
     "output_type": "stream",
     "text": [
      "(0,)\n"
     ]
    }
   ],
   "source": [
    "import numpy as np\n",
    "\n",
    "a = np.array([])\n",
    "b = np.array([2])\n",
    "print(a.shape)"
   ]
  },
  {
   "cell_type": "code",
   "execution_count": 5,
   "metadata": {},
   "outputs": [
    {
     "name": "stdout",
     "output_type": "stream",
     "text": [
      "[[[0.73053299 0.84812237]\n",
      "  [0.8156359  0.94902962]]]\n",
      "[[[0.99506291 0.93012271]\n",
      "  [0.07078266 0.46624107]]]\n",
      "(2, 2, 2)\n",
      "[[[0.73053299 0.84812237]\n",
      "  [0.8156359  0.94902962]]\n",
      "\n",
      " [[0.99506291 0.93012271]\n",
      "  [0.07078266 0.46624107]]]\n"
     ]
    }
   ],
   "source": [
    "import numpy as np\n",
    "\n",
    "a = np.random.rand(1, 2, 2)\n",
    "b = np.random.rand(1, 2, 2)\n",
    "print(a)\n",
    "print(b)\n",
    "\n",
    "c = [a, b]\n",
    "c = np.concatenate(c, axis=0)\n",
    "print(c.shape)\n",
    "print(c)"
   ]
  },
  {
   "cell_type": "code",
   "execution_count": null,
   "metadata": {},
   "outputs": [],
   "source": [
    "dict = {'sum':}"
   ]
  },
  {
   "cell_type": "code",
   "execution_count": 2,
   "metadata": {},
   "outputs": [
    {
     "name": "stdout",
     "output_type": "stream",
     "text": [
      "[ True False  True]\n"
     ]
    }
   ],
   "source": [
    "import numpy as np\n",
    "\n",
    "a = np.array([1, 2, 3])\n",
    "b = np.array([1, 4, 3])\n",
    "\n",
    "print(a==b)"
   ]
  },
  {
   "cell_type": "code",
   "execution_count": 5,
   "metadata": {},
   "outputs": [
    {
     "data": {
      "text/plain": [
       "[4, 5]"
      ]
     },
     "execution_count": 5,
     "metadata": {},
     "output_type": "execute_result"
    }
   ],
   "source": [
    "list = [1, 2, 3, 4, 5]\n",
    "list[3:]"
   ]
  },
  {
   "cell_type": "code",
   "execution_count": 6,
   "metadata": {},
   "outputs": [
    {
     "data": {
      "text/plain": [
       "'003'"
      ]
     },
     "execution_count": 6,
     "metadata": {},
     "output_type": "execute_result"
    }
   ],
   "source": [
    "'{:03d}'.format(3)"
   ]
  },
  {
   "cell_type": "code",
   "execution_count": 3,
   "metadata": {},
   "outputs": [
    {
     "name": "stdout",
     "output_type": "stream",
     "text": [
      "tensor([ 0.,  1.,  2.,  3.,  4.,  5.,  6.,  7.,  8.,  9., 10.]) tensor([0, 1, 2, 3, 4, 5, 6, 7, 8, 9])\n"
     ]
    },
    {
     "name": "stderr",
     "output_type": "stream",
     "text": [
      "/usr/local/lib/python3.5/dist-packages/ipykernel_launcher.py:3: UserWarning: torch.range is deprecated in favor of torch.arange and will be removed in 0.5. Note that arange generates values in [start; end), not [start; end].\n",
      "  This is separate from the ipykernel package so we can avoid doing imports until\n"
     ]
    }
   ],
   "source": [
    "import torch\n",
    "\n",
    "a = torch.range(0, 10)\n",
    "b = torch.arange(0, 10)\n",
    "print(a, b)"
   ]
  },
  {
   "cell_type": "code",
   "execution_count": 4,
   "metadata": {},
   "outputs": [
    {
     "name": "stdout",
     "output_type": "stream",
     "text": [
      "haha\n"
     ]
    }
   ],
   "source": [
    "def function():\n",
    "    print('haha')\n",
    "    return\n",
    "\n",
    "function()"
   ]
  },
  {
   "cell_type": "code",
   "execution_count": 43,
   "metadata": {
    "scrolled": false
   },
   "outputs": [
    {
     "name": "stdout",
     "output_type": "stream",
     "text": [
      "torch.Size([20, 10, 10, 5]) torch.Size([20, 10, 10, 5])\n",
      "tensor(1.)\n"
     ]
    }
   ],
   "source": [
    "import time\n",
    "import torch\n",
    "import numpy as np\n",
    "\n",
    "a = torch.ones([20, 10, 10, 5])\n",
    "b = torch.zeros([10, 10, 5])\n",
    "c = torch.zeros([20, 10, 10, 5])\n",
    "\n",
    "b = torch.stack([b for i in range(a.shape[0])], dim=0)\n",
    "\n",
    "# a = torch.from_numpy(a)\n",
    "# b = torch.from_numpy(b)\n",
    "\n",
    "print(a.shape, b.shape)\n",
    "\n",
    "loss = torch.nn.functional.mse_loss(a, b)\n",
    "\n",
    "\n",
    "print(loss)"
   ]
  },
  {
   "cell_type": "code",
   "execution_count": 40,
   "metadata": {},
   "outputs": [
    {
     "name": "stdout",
     "output_type": "stream",
     "text": [
      "(20, 10, 10, 5)\n"
     ]
    }
   ],
   "source": [
    "import numpy as np\n",
    "\n",
    "a = torch.ones([20, 10, 10, 5])\n",
    "b = torch.zeros([10, 10, 5])\n",
    "\n",
    "b = np.stack([b for i in range(a.shape[0])], axis=0)\n",
    "print(b.shape)"
   ]
  },
  {
   "cell_type": "code",
   "execution_count": 3,
   "metadata": {},
   "outputs": [
    {
     "name": "stderr",
     "output_type": "stream",
     "text": [
      "100%|██████████| 100/100 [00:10<00:00,  9.84it/s]\n"
     ]
    }
   ],
   "source": [
    "from tqdm import tqdm\n",
    "import time \n",
    "\n",
    "for i in tqdm(range(100)):\n",
    "    time.sleep(0.1)\n",
    "#     print(i)"
   ]
  },
  {
   "cell_type": "code",
   "execution_count": 1,
   "metadata": {},
   "outputs": [
    {
     "data": {
      "text/plain": [
       "[1, 1, 1, 1, 1, 1, 1, 1]"
      ]
     },
     "execution_count": 1,
     "metadata": {},
     "output_type": "execute_result"
    }
   ],
   "source": [
    "[1 for i in range(8)]"
   ]
  },
  {
   "cell_type": "code",
   "execution_count": 25,
   "metadata": {},
   "outputs": [
    {
     "name": "stdout",
     "output_type": "stream",
     "text": [
      "(None, None, None)\n"
     ]
    }
   ],
   "source": [
    "import numpy as np\n",
    "\n",
    "data = np.zeros([1, 2, 3])\n",
    "\n",
    "print(tuple(None for i in range(len(data.shape))))\n"
   ]
  },
  {
   "cell_type": "code",
   "execution_count": 5,
   "metadata": {},
   "outputs": [
    {
     "name": "stdout",
     "output_type": "stream",
     "text": [
      "a : [[14. 49. 85.]\n",
      " [19.  6.  7.]\n",
      " [76.  5. 72.]]\n",
      "aa : [[0 1 2]\n",
      " [1 2 0]\n",
      " [1 2 0]]\n",
      "a[aa] : [[[14. 49. 85.]\n",
      "  [19.  6.  7.]\n",
      "  [76.  5. 72.]]\n",
      "\n",
      " [[19.  6.  7.]\n",
      "  [76.  5. 72.]\n",
      "  [14. 49. 85.]]\n",
      "\n",
      " [[19.  6.  7.]\n",
      "  [76.  5. 72.]\n",
      "  [14. 49. 85.]]]\n",
      "b : [14. 49. 85. 19.  6.  7. 76.  5. 72.]\n",
      "c : [7 4 5 0 3 1 8 6 2]\n",
      "b[c] : [ 5.  6.  7. 14. 19. 49. 72. 76. 85.]\n",
      "d : [[7 4 5]\n",
      " [0 3 1]\n",
      " [8 6 2]]\n"
     ]
    }
   ],
   "source": [
    "import numpy as np\n",
    "\n",
    "a = np.round(np.random.rand(3, 3) * 100, 0)\n",
    "print('a :', a)\n",
    "aa = np.argsort(a)\n",
    "print('aa :', aa)\n",
    "print('a[aa] :', a[aa])\n",
    "b = a.reshape(9)\n",
    "print('b :', b)\n",
    "c = np.argsort(b)\n",
    "print('c :', c)\n",
    "print('b[c] :', b[c])\n",
    "\n",
    "d = c.reshape(3, 3)\n",
    "print('d :', d)\n"
   ]
  },
  {
   "cell_type": "code",
   "execution_count": 10,
   "metadata": {},
   "outputs": [
    {
     "name": "stdout",
     "output_type": "stream",
     "text": [
      "[[73. 90. 42.]\n",
      " [98. 60. 48.]\n",
      " [61. 34. 50.]]\n",
      "\n",
      "[73. 90. 42. 98. 60. 48. 61. 34. 50.]\n",
      "\n",
      "[7 2 5 8 4 6 0 1 3]\n",
      "\n",
      "[6 7 1 8 4 2 5 0 3]\n",
      "\n",
      "[[6 7 1]\n",
      " [8 4 2]\n",
      " [5 0 3]]\n",
      "\n"
     ]
    }
   ],
   "source": [
    "import numpy as np\n",
    "\n",
    "a = np.round(np.random.rand(3,3)*100, 0)\n",
    "print(a)\n",
    "print()\n",
    "b = a.reshape(9)\n",
    "print(b)\n",
    "print()\n",
    "c = np.argsort(b)\n",
    "print(c)\n",
    "print()\n",
    "rank = np.zeros_like(c)\n",
    "arange = np.arange(c.shape[0])\n",
    "\n",
    "rank[c] = arange\n",
    "print(rank)\n",
    "print()\n",
    "\n",
    "rank_matrix = rank.reshape(a.shape)\n",
    "print(rank_matrix)\n",
    "print()"
   ]
  },
  {
   "cell_type": "code",
   "execution_count": 14,
   "metadata": {},
   "outputs": [
    {
     "name": "stdout",
     "output_type": "stream",
     "text": [
      "[[[ 0.  0.  0.]\n",
      "  [ 0.  0.  0.]\n",
      "  [ 0.  0.  0.]]\n",
      "\n",
      " [[ 0.  0.  0.]\n",
      "  [ 0.  0.  0.]\n",
      "  [ 0.  0.  0.]]\n",
      "\n",
      " [[ 5.  4.  9.]\n",
      "  [ 6.  6.  1.]\n",
      "  [ 0.  6.  4.]]\n",
      "\n",
      " [[ 5.  3.  1.]\n",
      "  [ 5.  2.  7.]\n",
      "  [ 2.  7.  2.]]\n",
      "\n",
      " [[ 2. 10.  4.]\n",
      "  [10. 10.  2.]\n",
      "  [ 1.  4.  9.]]\n",
      "\n",
      " [[ 6.  7.  8.]\n",
      "  [ 8.  5.  8.]\n",
      "  [ 0.  1.  4.]]\n",
      "\n",
      " [[ 6.  3. 10.]\n",
      "  [ 8. 10.  6.]\n",
      "  [ 6.  2.  6.]]\n",
      "\n",
      " [[ 0.  0.  0.]\n",
      "  [ 0.  0.  0.]\n",
      "  [ 0.  0.  0.]]\n",
      "\n",
      " [[ 0.  0.  0.]\n",
      "  [ 0.  0.  0.]\n",
      "  [ 0.  0.  0.]]\n",
      "\n",
      " [[ 3.  7.  9.]\n",
      "  [ 5. 10.  5.]\n",
      "  [ 9.  1.  8.]]]\n"
     ]
    }
   ],
   "source": [
    "import numpy as np\n",
    "\n",
    "a = np.round(10*np.random.rand(10, 3, 3), 0)\n",
    "b = np.array([0, 0, 1, 1, 1, 1, 1, 0, 0, 1])[:,np.newaxis, np.newaxis]\n",
    "\n",
    "print(a * b)"
   ]
  }
 ],
 "metadata": {
  "kernelspec": {
   "display_name": "Python 3",
   "language": "python",
   "name": "python3"
  },
  "language_info": {
   "codemirror_mode": {
    "name": "ipython",
    "version": 3
   },
   "file_extension": ".py",
   "mimetype": "text/x-python",
   "name": "python",
   "nbconvert_exporter": "python",
   "pygments_lexer": "ipython3",
   "version": "3.5.2"
  }
 },
 "nbformat": 4,
 "nbformat_minor": 2
}
